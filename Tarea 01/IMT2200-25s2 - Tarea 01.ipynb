{
 "cells": [
  {
   "cell_type": "markdown",
   "id": "a34d140a",
   "metadata": {},
   "source": [
    "IMT 2200 - Introducción a Ciencia de Datos<br>\n",
    "**Pontificia Universidad Católica de Chile**<br>\n",
    "**Instituto de Ingeniería Matemática y Computacional**<br>\n",
    "**Semestre 2025-S2**<br>\n",
    "**Profesor:** Rodrigo A. Carrasco <br>\n",
    "\n",
    "---\n",
    "\n",
    "## Tarea 01 – Cargando y Analizando Datos\n",
    "\n",
    "- **Fecha de Entrega:** martes 26 de agosto de 2025, a las 23:59.\n",
    "- \n",
    "**Formato de entrega:** Notebook ejecutado y comentado (`.ipynb`) en l emódulo de Tara 01 habilitado en Canvas.\r\n",
    "\n",
    "\n"
   ]
  },
  {
   "cell_type": "markdown",
   "id": "b6928ed9-0a2b-4588-8282-b3f3e5e24a8c",
   "metadata": {},
   "source": [
    "## Instrucciones\n",
    "\n",
    "- Esta Tarea debe desarrollarse de manera totalmente *individual*, de acuerdo a lo establecido en la sección de Integridad Académica en el programa del curso.\n",
    "- La Tarea debe ser desarrollada en lenguaje de programación Python y la entrega en formato Jupyter Notebook.\n",
    "- El desarrollo del Notebook debe ser claro y ordenado, incluyendo anotaciones (markdown) y comentarios que permitan seguir fácilmente el código y los pasos implementados a los correctores, y siguiendo buenas prácticas de programación. La presentación y claridad del notebook y código forman parte de la evaluación de la tarea.\n",
    "- Notebook **autocontenible** que:\n",
    "   - Ejecute sin errores todas las celdas.\r\n",
    "  - Contenga tanto el código como los comentarios y explicaciones necesarias.\r\n",
    "  - Incluya visualizaciones claras y correctamente etiquetadas.\r\n",
    "- No se aceptarán notebooks con celdas rotas o que dependan de rutas externas no indicadas en la tara.\r\n",
    "\n",
    "- Deben hacer sus consultas y comentarios sobre la Tarea a traves del canal de Tareas en eo del curso en Canvas.os.\n",
    "cteriza."
   ]
  },
  {
   "cell_type": "markdown",
   "id": "35a88d5e-b718-4b8e-81c8-dc169d02e88e",
   "metadata": {},
   "source": [
    "## 1. Objetivos\n",
    "\n",
    "- Aplicar los conceptos iniciales de manejo de datos y análisis exploratorio vistos en clases.\n",
    "- Practicar la lectura, limpieza y manipulación de datos en Python.\n",
    "- Desarrollar habilidades para visualizar y describir patrones y tendencias en conjuntos de datos reales.\n",
    "- Fomentar la capacidad de comunicar resultados de forma clara y fundamentada.\n",
    "\n",
    "### 1.1 Objetivo educacional\n",
    "\n",
    "Esta Tarea tiene como objetivo que los estudiantes desarrollen la capacidad de manejar algunas de las librerías centrales para el desarrollo de Ciencia de Datos, con foco en la lectura y exploración de datos. \n",
    "\n",
    "Para los ejercicios a continuación, usted deberá leer, inspeccionar, manipular y graficar conjuntos de datos en distintos formatos, de manera de responder las preguntas de cada parte de la Tarea.\n",
    "\n",
    "### 1.2 Pregunta de ciencia de datos\n",
    "\n",
    "Para esta tarea, tendremos como objetivo comprender cómo han cambiado los juegos de mesa en los últimos 40 años. Específicamente queremos saber qué tipos de juegos se han vuelto más comunes hoy en día y qué los caracteriza.\n",
    "\n",
    "### 1.3 Recomendaciones\n",
    "- Utiliza las librerías sugeridas en el notebook o justifica brevemente si incorporas otras.\n",
    "- Revisa que todas las celdas se ejecuten en orden, desde el inicio, sin errores.\n",
    "- Comenta tu código para explicar qué hace cada sección relevante.\n",
    "- Asegúrate de que las visualizaciones sean fáciles de interpretar y tengan títulos y etiquetas adecuados."
   ]
  },
  {
   "cell_type": "markdown",
   "id": "116596ef",
   "metadata": {},
   "source": [
    "## 2. Datos\n",
    "\n",
    "Estaremos utilizando información extraída desde [BoardGameGeek.com](https://boardgamegeek.com/), una plataforma para aficionados de los juegos de mesa, que permite a sus usuarios registrar, calificar e intercambiar sus juegos favoritos. Actualmente, BGG es una de las bases de datos más extensa y diversa de juegos de mesa.\n",
    "\n",
    "El dataset con el que trabajaremos consiste en un grupo de archivos CSV que contienen información sobre más de 100.000 juegos de mesa almacenados en la plataforma. Este puede descargarse directamente desde el siguiente enlace: https://www.kaggle.com/datasets/mshepherd/board-games Para descargar los datos, haga click en el botón de **Download**, donde podrá descargar los archivos como `.zip`, o bien utilizar la API de Kaggle.\n",
    "\n",
    "Para el desarrollo de esta tarea, solo utilizaremos los archivos con el prefijo `bgg_`.\n",
    "\n",
    "**Si utiliza la API de Kaggle para descargar los datos, deje el código utilizado en la siguiente celda:**"
   ]
  },
  {
   "cell_type": "code",
   "execution_count": 1,
   "id": "3499fd7e",
   "metadata": {},
   "outputs": [
    {
     "name": "stdout",
     "output_type": "stream",
     "text": [
      "Dataset URL: https://www.kaggle.com/datasets/mshepherd/board-games\n"
     ]
    }
   ],
   "source": [
    "import kaggle as kg\n",
    "kg.api.authenticate()\n",
    "\n",
    "kg.api.dataset_download_files(dataset = \"mshepherd/board-games\", path='on.zip', unzip=True)"
   ]
  },
  {
   "cell_type": "markdown",
   "id": "c32f6e52",
   "metadata": {},
   "source": [
    "### 2.1 Librerías\n",
    "\n",
    "Para esta tarea recomendamos al menos usar las librerías indicadas en la siguiente celda del Notebook. Puede agregar otras si lo estima conveniente para responder de mejor forma las preguntas de la Tarea."
   ]
  },
  {
   "cell_type": "code",
   "execution_count": 2,
   "id": "87be9d83",
   "metadata": {},
   "outputs": [],
   "source": [
    "import os\n",
    "import numpy as np\n",
    "import pandas as pd\n",
    "import matplotlib.pyplot as plt\n",
    "\n",
    "from pathlib import Path"
   ]
  },
  {
   "cell_type": "markdown",
   "id": "49c9c1e7",
   "metadata": {},
   "source": [
    "## 3. Desarrollo\n",
    "\n",
    "Para cada una de las siguientes preguntas o actividades incluya una o más celdas de código y Markdown con las respuestas o comentarios necesarios para contestar la pregunta o lograr la actividad. Agregue sus celdas a continuación de cada pregunta para que el Notebook quede ordenado.\n",
    "\n",
    "En el caso de gráficos, figuras o tablas, asegúrese que todas tengan título, etiquetas en los ejes o haya claridad de los contenidos."
   ]
  },
  {
   "cell_type": "markdown",
   "id": "dfc274ca",
   "metadata": {},
   "source": [
    "### 3.1 DataFrame unificado (1 punto)\n",
    "\n",
    "Vamos a cargar en un DataFrame los datos de juegos guardados en el documento `bgg_GameItem.csv`. Al inspeccionar nuestros datos, podemos notar que los valores de ciertas comunas vienen \"codificados\" con ID. Para comenzar, vamos a juntar la información de los distintos archivos descargados.\n",
    "\n",
    "**a) (0.8 pts)** Genere un DataFrame único con toda la información de cada juego, incluyendo: nombres de artistas y diseñadores involucrados, mecánicas, categorías, tipo, familia y editorial. Guarde este DataFrame en un nuevo archivo CSV."
   ]
  },
  {
   "cell_type": "code",
   "execution_count": 3,
   "id": "b450fc7c-433c-4b6d-b8e4-543c73fc855a",
   "metadata": {},
   "outputs": [],
   "source": [
    "# Data import\n",
    "\n",
    "paths = [Path(\"on.zip/bgg_GameItem.csv\"),\n",
    "         Path(\"on.zip/bgg_Category.csv\"), Path(\"on.zip/bgg_GameType.csv\"), Path(\"on.zip/bgg_GameType.csv\"),\n",
    "         Path(\"on.zip/bgg_Mechanic.csv\"), Path(\"on.zip/bgg_Person.csv\"), Path(\"on.zip/bgg_Publisher.csv\")]\n",
    "\n",
    "# General\n",
    "raw_main_data = pd.read_csv(paths[0]).fillna(np.nan)\n",
    "# raw_main_data = raw_main_data.loc[:, raw_main_data.isnull().all() == False]\n",
    "raw_main_data[\"designer\"] = raw_main_data[\"designer\"].astype(str)\n",
    "\n",
    "# Category\n",
    "category_data = pd.read_csv(paths[1])\n",
    "category_data.columns = [\"category_id\", \"category_name\"]\n",
    "category_data[\"category_id\"] = category_data[\"category_id\"].astype(str)\n",
    "\n",
    "# Family\n",
    "family_data = pd.read_csv(paths[2])\n",
    "family_data.columns = [\"family_id\", \"family_name\"]\n",
    "family_data[\"family_id\"] = family_data[\"family_id\"].astype(str)\n",
    "\n",
    "# GameType\n",
    "gametype_data = pd.read_csv(paths[3])\n",
    "gametype_data.columns = [\"gametype_id\", \"gametype_name\"]\n",
    "gametype_data[\"gametype_id\"] = gametype_data[\"gametype_id\"].astype(str)\n",
    "\n",
    "# Mechanic\n",
    "mechanic_data = pd.read_csv(paths[4])\n",
    "mechanic_data.columns = [\"mechanic_id\", \"mechanic_name\"]\n",
    "mechanic_data[\"mechanic_id\"] = mechanic_data[\"mechanic_id\"].astype(str)\n",
    "\n",
    "# Person\n",
    "person_data = pd.read_csv(paths[5])\n",
    "person_data.columns = [\"person_id\", \"person_name\"]\n",
    "person_data[\"person_id\"] = person_data[\"person_id\"].astype(str)\n",
    "\n",
    "# Publisher\n",
    "publisher_data = pd.read_csv(paths[6])\n",
    "publisher_data.columns = [\"publisher_id\", \"publisher_name\"]\n",
    "publisher_data[\"publisher_id\"] = publisher_data[\"publisher_id\"].astype(str)"
   ]
  },
  {
   "cell_type": "code",
   "execution_count": 4,
   "id": "e563695c-d1b3-41be-a8e0-53ca22d4369a",
   "metadata": {},
   "outputs": [],
   "source": [
    "# map IDs to names, categorys, etc\n",
    "dict_map_id_to_category = dict(zip(category_data[\"category_id\"], category_data[\"category_id\"]))\n",
    "dict_map_id_to_family = dict(zip(family_data[\"family_id\"], family_data[\"family_id\"]))\n",
    "dict_map_id_to_gametype = dict(zip(gametype_data[\"gametype_id\"], gametype_data[\"gametype_id\"]))\n",
    "dict_map_id_to_mechanic = dict(zip(mechanic_data[\"mechanic_id\"], mechanic_data[\"mechanic_name\"]))\n",
    "dict_map_id_to_name = dict(zip(person_data[\"person_id\"], person_data[\"person_name\"]))\n",
    "dict_map_id_to_publisher = dict(zip(publisher_data[\"publisher_id\"], publisher_data[\"publisher_name\"]))\n",
    "\n",
    "def map_one_to_many(cell, dict_map):\n",
    "    if pd.isnull(cell):\n",
    "        return np.nan\n",
    "    splited_cell = cell.split(\",\")\n",
    "    for i, value in enumerate(splited_cell):\n",
    "        splited_cell[i] = dict_map.get(value.strip(), \"ID NOT FOUND\")\n",
    "    return \",\".join(splited_cell)"
   ]
  },
  {
   "cell_type": "code",
   "execution_count": 5,
   "id": "8f18fc76-be02-4189-977c-22a65e2201d2",
   "metadata": {},
   "outputs": [],
   "source": [
    "raw_main_data[\"category\"] = raw_main_data[\"category\"].apply(lambda x: map_one_to_many(x, dict_map_id_to_category))\n",
    "raw_main_data[\"family\"] = raw_main_data[\"family\"].apply(lambda x: map_one_to_many(x, dict_map_id_to_family))\n",
    "raw_main_data[\"game_type\"] = raw_main_data[\"game_type\"].apply(lambda x: map_one_to_many(x, dict_map_id_to_gametype))\n",
    "raw_main_data[\"mechanic\"] = raw_main_data[\"mechanic\"].apply(lambda x: map_one_to_many(x, dict_map_id_to_mechanic))\n",
    "raw_main_data[\"designer\"] = raw_main_data[\"designer\"].apply(lambda x: map_one_to_many(x, dict_map_id_to_name))\n",
    "raw_main_data[\"artist\"] = raw_main_data[\"artist\"].apply(lambda x: map_one_to_many(x, dict_map_id_to_name))\n",
    "raw_main_data[\"publisher\"] = raw_main_data[\"publisher\"].apply(lambda x: map_one_to_many(x, dict_map_id_to_publisher))"
   ]
  },
  {
   "cell_type": "markdown",
   "id": "dec5cbbb",
   "metadata": {},
   "source": [
    "**b) (0.2 pts)** ¿Cuánto espacio en disco ocupa este DataFrame? ¿Cuánto espacio en disco ocupan los documentos CSV separados? ¿A qué se debe esta diferencia? Comente.\n",
    "\n"
   ]
  },
  {
   "cell_type": "code",
   "execution_count": 6,
   "id": "bf522fb1-4685-4218-8845-191e7f749b23",
   "metadata": {},
   "outputs": [
    {
     "name": "stdout",
     "output_type": "stream",
     "text": [
      "Dataframe size: 34626948 bytes \n",
      "CSV files size: 17841491 bytes\n"
     ]
    }
   ],
   "source": [
    "files_size = 0\n",
    "for path in paths:\n",
    "    files_size += os.path.getsize(path)\n",
    "memory_usage = raw_main_data.memory_usage().sum()\n",
    "print(f\"Dataframe size: {memory_usage} bytes \\nCSV files size: {files_size} bytes\")"
   ]
  },
  {
   "cell_type": "markdown",
   "id": "030904e0",
   "metadata": {},
   "source": [
    "#### **3.1 b) RESPUESTA**\n",
    "El **Dataframe usa en memoria 34626948 bytes**, ≈ 34.62 GB, mientras que los **archivos csv usan en disco 17841491 bytes**, ≈ 17.84 MB, esto se debe a que la clase pd.DataFrame tambien tiene atributos y metodos que debe alojar en memoria, a diferencia de los archivos csv que son solo información en texto plana"
   ]
  },
  {
   "cell_type": "markdown",
   "id": "b8c7bec6",
   "metadata": {},
   "source": [
    "### 3.2 Juegos publicados anualmente (1.5 puntos)\n",
    "\n",
    "\n",
    "**a) (0.5 pts)** Limpie los datos para dejar solo aquellos que tienen valores válidos de año de publicación. Luego responda: ¿cuál es el rango de años con el que estamos trabajando? ¿Tienen sentido estos años?"
   ]
  },
  {
   "cell_type": "code",
   "execution_count": 7,
   "id": "a8c60679",
   "metadata": {},
   "outputs": [],
   "source": [
    "main_data_valid_year = raw_main_data[raw_main_data[\"year\"].notnull() == True]# .sort_values(by=\"year\", ascending=True)"
   ]
  },
  {
   "cell_type": "code",
   "execution_count": 8,
   "id": "89d5e4d8-5aa9-47f0-91b3-bb44af4ee0a4",
   "metadata": {},
   "outputs": [
    {
     "name": "stdout",
     "output_type": "stream",
     "text": [
      "[1986. 1981. 1998. 1992. 1964. 1989. 1978. 1993. 1997. 1999. 1995. 1977.\n",
      " 1996. 1994. 1991. 1988. 1979. 1984. 1987. 1975. 1982. 1980. 1990. 1800.\n",
      " 1974. 1972. 1983. 1903. 1959. 1985.]\n"
     ]
    }
   ],
   "source": [
    "print(main_data_valid_year.year.unique()[:30])"
   ]
  },
  {
   "cell_type": "markdown",
   "id": "33c8bd77-9f29-4320-9e30-64cf22ff3be9",
   "metadata": {},
   "source": [
    "Vemos que hay años muy bajos, lo que es raro, pero siguen siendo numeros enteros, así que son válidos."
   ]
  },
  {
   "cell_type": "code",
   "execution_count": 9,
   "id": "3a070541-8629-4d33-b77f-90884217fda8",
   "metadata": {},
   "outputs": [
    {
     "name": "stdout",
     "output_type": "stream",
     "text": [
      "               name    year\n",
      "2060          Senet -3500.0\n",
      "3593          Mehen -3000.0\n",
      "10284  Knucklebones -3000.0\n",
      "4815        Marbles -3000.0\n",
      "20170    20 Squares -3000.0\n"
     ]
    }
   ],
   "source": [
    "main_data_1500_lower_years = main_data_valid_year[main_data_valid_year[\"year\"] <= 1500].sort_values(by=\"year\", ascending=True)\n",
    "print(main_data_1500_lower_years[[\"name\", \"year\"]].head(5))"
   ]
  },
  {
   "cell_type": "markdown",
   "id": "15c297fe-85fd-494d-a334-7973e8bdfe07",
   "metadata": {},
   "source": [
    "#### **3.2 a) RESPUESTA**\n",
    "Los años podrian tener sentido, siguen siendo numeros enteros, pero es improbable que realmente se haya creado un juego de mesa en el año -3500, revisando bien los nombres, veremos juegos como el ajedrez (chess), las canicas (marbles), Go y más, por lo que los años SÍ tienen sentido."
   ]
  },
  {
   "cell_type": "markdown",
   "id": "7b8d452e",
   "metadata": {},
   "source": [
    "**b) (0.5 pts)** Seleccione solamente los juegos entre los años 1980 y 2025. Luego grafique la cantidad de juegos publicados por año. ¿Cómo es esta tendencia? Comente."
   ]
  },
  {
   "cell_type": "code",
   "execution_count": 10,
   "id": "f073e58e",
   "metadata": {},
   "outputs": [],
   "source": [
    "main_data_1980_2025 = main_data_valid_year[main_data_valid_year[\"year\"] <= 2025]\n",
    "main_data_1980_2025 = main_data_1980_2025[main_data_1980_2025[\"year\"] >= 1980]"
   ]
  },
  {
   "cell_type": "code",
   "execution_count": 11,
   "id": "4476f06b-8efa-4d98-83f3-e59f67698114",
   "metadata": {},
   "outputs": [],
   "source": [
    "series_1980_2025_years = main_data_1980_2025[\"year\"]\n",
    "quantity = series_1980_2025_years.value_counts().sort_index(ascending=True)"
   ]
  },
  {
   "cell_type": "code",
   "execution_count": 12,
   "id": "1317d66c-b2a7-4ad6-a62d-42410d9ef5ee",
   "metadata": {},
   "outputs": [
    {
     "data": {
      "image/png": "[encoded data removed]",
      "text/plain": [
       "<Figure size 640x480 with 1 Axes>"
      ]
     },
     "metadata": {},
     "output_type": "display_data"
    }
   ],
   "source": [
    "plot_x_axis = quantity.index\n",
    "plot_y_axis = quantity.values\n",
    "\n",
    "fig, ax = plt.subplots()\n",
    "\n",
    "ax.set_title(\"Juegos publicados por año entre 1980 y 2025\")\n",
    "ax.set_xlabel(\"Año\")\n",
    "ax.set_ylabel(\"Cantidad\")\n",
    "\n",
    "# ax.axhline(y=1000, color=\"black\", linestyle=\"--\", linewidth=1)\n",
    "ax.grid(True, axis=\"y\", linestyle=\"--\", alpha=0.5)\n",
    "ax.grid(True, axis=\"x\", linestyle=\"--\", alpha=0.5)\n",
    "\n",
    "ax.set_facecolor(\"#dfdfdf\")\n",
    "\n",
    "ax.plot(plot_x_axis, plot_y_axis, color=\"black\", alpha=1 )\n",
    "# ax.bar(plot_x_axis, plot_y_axis, color=\"#0080ff\", alpha=0.1)\n",
    "plt.show()"
   ]
  },
  {
   "cell_type": "markdown",
   "id": "047c1e61",
   "metadata": {},
   "source": [
    "**c) (0.5 pts)** ¿Entre qué años hubo un mayor aumento de publicación de juegos de mesa según los registros de BGG?"
   ]
  },
  {
   "cell_type": "code",
   "execution_count": 14,
   "id": "e09fa10b",
   "metadata": {},
   "outputs": [],
   "source": [
    "df_publicaciones_1980_2025 = pd.DataFrame(quantity).reset_index()\n",
    "df_publicaciones_1980_2025[\"pct_change\"] = df_publicaciones_1980_2025[\"count\"].pct_change()/df_publicaciones_1980_2025[\"year\"].diff()*100\n",
    "df_publicaciones_1980_2025[\"diff\"] = df_publicaciones_1980_2025[\"count\"].diff()/df_publicaciones_1980_2025[\"year\"].diff()"
   ]
  },
  {
   "cell_type": "code",
   "execution_count": 15,
   "id": "807d5a16-1d1d-477a-bec9-949e77ca7afb",
   "metadata": {},
   "outputs": [
    {
     "data": {
      "image/png": "[encoded data removed]",
      "text/plain": [
       "<Figure size 640x480 with 1 Axes>"
      ]
     },
     "metadata": {},
     "output_type": "display_data"
    },
    {
     "name": "stdout",
     "output_type": "stream",
     "text": [
      "      year   diff\n",
      "34  2014.0  484.0\n",
      "39  2019.0  395.0\n",
      "25  2005.0  384.0\n"
     ]
    }
   ],
   "source": [
    "fig, ax = plt.subplots()\n",
    "\n",
    "ax.set_title(\"Variación de juegos publicados por año entre 1980 y 2025\")\n",
    "ax.set_xlabel(\"Año\")\n",
    "ax.set_ylabel(\"Cantidad\")\n",
    "\n",
    "ax.grid(True, axis=\"y\", linestyle=\"--\", alpha=0.5)\n",
    "ax.grid(True, axis=\"x\", linestyle=\"--\", alpha=0.5)\n",
    "\n",
    "ax.set_facecolor(\"#dfdfdf\")\n",
    "\n",
    "ax.plot(df_publicaciones_1980_2025[\"year\"], df_publicaciones_1980_2025[\"diff\"], color=\"black\", alpha=1 )\n",
    "plt.show()\n",
    "print(df_publicaciones_1980_2025[[\"year\", \"diff\"]].sort_values(by=\"diff\", ascending=False).head(3))"
   ]
  },
  {
   "cell_type": "code",
   "execution_count": 64,
   "id": "abaf8935-c384-4190-90c4-bab1c8b29385",
   "metadata": {},
   "outputs": [
    {
     "data": {
      "image/png": "[encoded data removed]",
      "text/plain": [
       "<Figure size 640x480 with 1 Axes>"
      ]
     },
     "metadata": {},
     "output_type": "display_data"
    },
    {
     "name": "stdout",
     "output_type": "stream",
     "text": [
      "      year  pct_change\n",
      "3   1983.0   25.085324\n",
      "18  1998.0   18.933624\n",
      "25  2005.0   18.604651\n"
     ]
    }
   ],
   "source": [
    "fig, ax = plt.subplots()\n",
    "\n",
    "ax.set_title(\"Variación porcentual de juegos publicados por año entre 1980 y 2025\")\n",
    "ax.set_xlabel(\"Año\")\n",
    "ax.set_ylabel(\"Cantidad\")\n",
    "\n",
    "ax.grid(True, axis=\"y\", linestyle=\"--\", alpha=0.5)\n",
    "ax.grid(True, axis=\"x\", linestyle=\"--\", alpha=0.5)\n",
    "\n",
    "ax.set_facecolor(\"#dfdfdf\")\n",
    "\n",
    "ax.plot(df_publicaciones_1980_2025[\"year\"], df_publicaciones_1980_2025[\"pct_change\"], color=\"green\", alpha=1)\n",
    "plt.show()\n",
    "print(df_publicaciones_1980_2025[[\"year\", \"pct_change\"]].sort_values(by=\"pct_change\", ascending=False).head(3))"
   ]
  },
  {
   "cell_type": "markdown",
   "id": "decb1b62-cb03-4a16-941c-8aa3348f4c83",
   "metadata": {},
   "source": [
    "#### **3.2 c) RESPUESTA**\n",
    "\n",
    "(editar casilla para visualización correcta)\n",
    "\n",
    "Los 3 años con mayores publicaciones fueron:\n",
    "año :    juegos publicados\n",
    "2019:    5087\n",
    "2020:    4926\n",
    "2021:    4693\n",
    "\n",
    "Los 3 años con mayor creciemiento cuantitativo en publicaciones fueron\n",
    "año :    diferencia con respecto al año anterior con datos no nulos\n",
    "2014:    484\n",
    "2019:    395\n",
    "2005:    384\n",
    "\n",
    "Los 3 años con mayor crecimiento porcentual en publicaciones fueron\n",
    "año :   cambio porcentual con respecto al año anterior con datos no nulos\n",
    "1983:   25.085324%\n",
    "1998:   18.933624%\n",
    "2005:   18.604651%"
   ]
  },
  {
   "cell_type": "markdown",
   "id": "6c22b65f",
   "metadata": {},
   "source": [
    "### 3.3 Análisis de duración y complejidad (1.5 puntos)\n",
    "\n",
    "Si bien hay muchas posibles características que podemos explorar para los juegos de mesa, esta vez nos centraremos en el tiempo de juego y la complejidad. En esta sección queremos comprender si se ha modificado notablemente la duración promedio y la percepción de complejidad de los juegos de mesa a través de los años."
   ]
  },
  {
   "cell_type": "markdown",
   "id": "e6f0c875",
   "metadata": {},
   "source": [
    "**a) (0.3 pts)** Inspecciones y filtre los datos que tengan valores válidos para: tiempo mínimo de juego, tiempo máximo de juego y complejidad. En el caso de que existan \"outliers\", puede descartarlos, cosiderando un rango razonable para las variables anteriores. Justifique su desición."
   ]
  },
  {
   "cell_type": "code",
   "execution_count": 26,
   "id": "0e87bbc2",
   "metadata": {},
   "outputs": [],
   "source": [
    "main_data_valid_time = raw_main_data[raw_main_data[\"min_time\"].notnull() == True]\n",
    "main_data_valid_time = main_data_valid_time[main_data_valid_time[\"max_time\"].notnull() == True]\n",
    "\n",
    "main_data_valid_complexity = raw_main_data[raw_main_data[\"complexity\"].notnull() == True]\n",
    "\n",
    "main_data_valid_time_complexity = main_data_valid_time[main_data_valid_time[\"complexity\"].notnull() == True]"
   ]
  },
  {
   "cell_type": "code",
   "execution_count": 71,
   "id": "60471d55-d5d6-455d-a49a-d1433852e6dd",
   "metadata": {},
   "outputs": [
    {
     "data": {
      "text/html": [
       "<div>\n",
       "<style scoped>\n",
       "    .dataframe tbody tr th:only-of-type {\n",
       "        vertical-align: middle;\n",
       "    }\n",
       "\n",
       "    .dataframe tbody tr th {\n",
       "        vertical-align: top;\n",
       "    }\n",
       "\n",
       "    .dataframe thead th {\n",
       "        text-align: right;\n",
       "    }\n",
       "</style>\n",
       "<table border=\"1\" class=\"dataframe\">\n",
       "  <thead>\n",
       "    <tr style=\"text-align: right;\">\n",
       "      <th></th>\n",
       "      <th>year</th>\n",
       "      <th>min_time</th>\n",
       "      <th>max_time</th>\n",
       "    </tr>\n",
       "  </thead>\n",
       "  <tbody>\n",
       "    <tr>\n",
       "      <th>77365</th>\n",
       "      <td>2017.0</td>\n",
       "      <td>157680.0</td>\n",
       "      <td>1576800.0</td>\n",
       "    </tr>\n",
       "    <tr>\n",
       "      <th>63469</th>\n",
       "      <td>2010.0</td>\n",
       "      <td>60120.0</td>\n",
       "      <td>60120.0</td>\n",
       "    </tr>\n",
       "    <tr>\n",
       "      <th>4165</th>\n",
       "      <td>1979.0</td>\n",
       "      <td>60000.0</td>\n",
       "      <td>60000.0</td>\n",
       "    </tr>\n",
       "    <tr>\n",
       "      <th>37403</th>\n",
       "      <td>2013.0</td>\n",
       "      <td>17280.0</td>\n",
       "      <td>17280.0</td>\n",
       "    </tr>\n",
       "    <tr>\n",
       "      <th>6061</th>\n",
       "      <td>1973.0</td>\n",
       "      <td>12000.0</td>\n",
       "      <td>12000.0</td>\n",
       "    </tr>\n",
       "    <tr>\n",
       "      <th>58482</th>\n",
       "      <td>NaN</td>\n",
       "      <td>10000.0</td>\n",
       "      <td>10000.0</td>\n",
       "    </tr>\n",
       "    <tr>\n",
       "      <th>46775</th>\n",
       "      <td>1978.0</td>\n",
       "      <td>9600.0</td>\n",
       "      <td>9600.0</td>\n",
       "    </tr>\n",
       "    <tr>\n",
       "      <th>27820</th>\n",
       "      <td>1999.0</td>\n",
       "      <td>8400.0</td>\n",
       "      <td>8400.0</td>\n",
       "    </tr>\n",
       "    <tr>\n",
       "      <th>42353</th>\n",
       "      <td>NaN</td>\n",
       "      <td>6000.0</td>\n",
       "      <td>6000.0</td>\n",
       "    </tr>\n",
       "    <tr>\n",
       "      <th>23304</th>\n",
       "      <td>NaN</td>\n",
       "      <td>6000.0</td>\n",
       "      <td>6000.0</td>\n",
       "    </tr>\n",
       "    <tr>\n",
       "      <th>79417</th>\n",
       "      <td>2018.0</td>\n",
       "      <td>6000.0</td>\n",
       "      <td>10000.0</td>\n",
       "    </tr>\n",
       "    <tr>\n",
       "      <th>4909</th>\n",
       "      <td>1979.0</td>\n",
       "      <td>5400.0</td>\n",
       "      <td>5400.0</td>\n",
       "    </tr>\n",
       "    <tr>\n",
       "      <th>11880</th>\n",
       "      <td>2001.0</td>\n",
       "      <td>4500.0</td>\n",
       "      <td>4500.0</td>\n",
       "    </tr>\n",
       "    <tr>\n",
       "      <th>50905</th>\n",
       "      <td>2009.0</td>\n",
       "      <td>4500.0</td>\n",
       "      <td>4500.0</td>\n",
       "    </tr>\n",
       "    <tr>\n",
       "      <th>29205</th>\n",
       "      <td>NaN</td>\n",
       "      <td>3600.0</td>\n",
       "      <td>3600.0</td>\n",
       "    </tr>\n",
       "    <tr>\n",
       "      <th>29203</th>\n",
       "      <td>NaN</td>\n",
       "      <td>3600.0</td>\n",
       "      <td>3600.0</td>\n",
       "    </tr>\n",
       "    <tr>\n",
       "      <th>29204</th>\n",
       "      <td>NaN</td>\n",
       "      <td>3600.0</td>\n",
       "      <td>3600.0</td>\n",
       "    </tr>\n",
       "    <tr>\n",
       "      <th>3555</th>\n",
       "      <td>1993.0</td>\n",
       "      <td>3600.0</td>\n",
       "      <td>3600.0</td>\n",
       "    </tr>\n",
       "    <tr>\n",
       "      <th>29202</th>\n",
       "      <td>NaN</td>\n",
       "      <td>3600.0</td>\n",
       "      <td>3600.0</td>\n",
       "    </tr>\n",
       "    <tr>\n",
       "      <th>7842</th>\n",
       "      <td>1984.0</td>\n",
       "      <td>3000.0</td>\n",
       "      <td>3000.0</td>\n",
       "    </tr>\n",
       "    <tr>\n",
       "      <th>48798</th>\n",
       "      <td>2012.0</td>\n",
       "      <td>3000.0</td>\n",
       "      <td>3000.0</td>\n",
       "    </tr>\n",
       "    <tr>\n",
       "      <th>63117</th>\n",
       "      <td>2015.0</td>\n",
       "      <td>3000.0</td>\n",
       "      <td>3000.0</td>\n",
       "    </tr>\n",
       "    <tr>\n",
       "      <th>89681</th>\n",
       "      <td>2021.0</td>\n",
       "      <td>3000.0</td>\n",
       "      <td>10000.0</td>\n",
       "    </tr>\n",
       "    <tr>\n",
       "      <th>47021</th>\n",
       "      <td>2011.0</td>\n",
       "      <td>3000.0</td>\n",
       "      <td>3000.0</td>\n",
       "    </tr>\n",
       "    <tr>\n",
       "      <th>19450</th>\n",
       "      <td>2010.0</td>\n",
       "      <td>3000.0</td>\n",
       "      <td>3000.0</td>\n",
       "    </tr>\n",
       "    <tr>\n",
       "      <th>85715</th>\n",
       "      <td>1979.0</td>\n",
       "      <td>2880.0</td>\n",
       "      <td>6000.0</td>\n",
       "    </tr>\n",
       "    <tr>\n",
       "      <th>41076</th>\n",
       "      <td>2012.0</td>\n",
       "      <td>2880.0</td>\n",
       "      <td>2880.0</td>\n",
       "    </tr>\n",
       "    <tr>\n",
       "      <th>248</th>\n",
       "      <td>1992.0</td>\n",
       "      <td>2480.0</td>\n",
       "      <td>2480.0</td>\n",
       "    </tr>\n",
       "    <tr>\n",
       "      <th>15869</th>\n",
       "      <td>2004.0</td>\n",
       "      <td>2400.0</td>\n",
       "      <td>2400.0</td>\n",
       "    </tr>\n",
       "    <tr>\n",
       "      <th>112912</th>\n",
       "      <td>2022.0</td>\n",
       "      <td>2400.0</td>\n",
       "      <td>2400.0</td>\n",
       "    </tr>\n",
       "    <tr>\n",
       "      <th>28975</th>\n",
       "      <td>2003.0</td>\n",
       "      <td>2005.0</td>\n",
       "      <td>2005.0</td>\n",
       "    </tr>\n",
       "    <tr>\n",
       "      <th>22977</th>\n",
       "      <td>2004.0</td>\n",
       "      <td>2004.0</td>\n",
       "      <td>2004.0</td>\n",
       "    </tr>\n",
       "    <tr>\n",
       "      <th>55807</th>\n",
       "      <td>NaN</td>\n",
       "      <td>2000.0</td>\n",
       "      <td>2000.0</td>\n",
       "    </tr>\n",
       "    <tr>\n",
       "      <th>35447</th>\n",
       "      <td>1500.0</td>\n",
       "      <td>2000.0</td>\n",
       "      <td>2000.0</td>\n",
       "    </tr>\n",
       "    <tr>\n",
       "      <th>45499</th>\n",
       "      <td>1600.0</td>\n",
       "      <td>1950.0</td>\n",
       "      <td>1950.0</td>\n",
       "    </tr>\n",
       "    <tr>\n",
       "      <th>6233</th>\n",
       "      <td>1986.0</td>\n",
       "      <td>1800.0</td>\n",
       "      <td>1800.0</td>\n",
       "    </tr>\n",
       "    <tr>\n",
       "      <th>12154</th>\n",
       "      <td>2005.0</td>\n",
       "      <td>1800.0</td>\n",
       "      <td>1800.0</td>\n",
       "    </tr>\n",
       "    <tr>\n",
       "      <th>9583</th>\n",
       "      <td>1997.0</td>\n",
       "      <td>1500.0</td>\n",
       "      <td>1500.0</td>\n",
       "    </tr>\n",
       "    <tr>\n",
       "      <th>35466</th>\n",
       "      <td>1500.0</td>\n",
       "      <td>1500.0</td>\n",
       "      <td>1500.0</td>\n",
       "    </tr>\n",
       "    <tr>\n",
       "      <th>47102</th>\n",
       "      <td>2011.0</td>\n",
       "      <td>1500.0</td>\n",
       "      <td>1500.0</td>\n",
       "    </tr>\n",
       "    <tr>\n",
       "      <th>78692</th>\n",
       "      <td>2019.0</td>\n",
       "      <td>1500.0</td>\n",
       "      <td>3000.0</td>\n",
       "    </tr>\n",
       "    <tr>\n",
       "      <th>39395</th>\n",
       "      <td>2009.0</td>\n",
       "      <td>1500.0</td>\n",
       "      <td>1500.0</td>\n",
       "    </tr>\n",
       "    <tr>\n",
       "      <th>6865</th>\n",
       "      <td>1978.0</td>\n",
       "      <td>1500.0</td>\n",
       "      <td>1500.0</td>\n",
       "    </tr>\n",
       "    <tr>\n",
       "      <th>6667</th>\n",
       "      <td>2003.0</td>\n",
       "      <td>1440.0</td>\n",
       "      <td>2880.0</td>\n",
       "    </tr>\n",
       "    <tr>\n",
       "      <th>25494</th>\n",
       "      <td>2007.0</td>\n",
       "      <td>1440.0</td>\n",
       "      <td>22500.0</td>\n",
       "    </tr>\n",
       "    <tr>\n",
       "      <th>1332</th>\n",
       "      <td>1974.0</td>\n",
       "      <td>1440.0</td>\n",
       "      <td>1440.0</td>\n",
       "    </tr>\n",
       "    <tr>\n",
       "      <th>104644</th>\n",
       "      <td>2021.0</td>\n",
       "      <td>1440.0</td>\n",
       "      <td>10080.0</td>\n",
       "    </tr>\n",
       "    <tr>\n",
       "      <th>38465</th>\n",
       "      <td>2009.0</td>\n",
       "      <td>1440.0</td>\n",
       "      <td>1440.0</td>\n",
       "    </tr>\n",
       "    <tr>\n",
       "      <th>60687</th>\n",
       "      <td>2012.0</td>\n",
       "      <td>1200.0</td>\n",
       "      <td>1200.0</td>\n",
       "    </tr>\n",
       "    <tr>\n",
       "      <th>13201</th>\n",
       "      <td>1987.0</td>\n",
       "      <td>1200.0</td>\n",
       "      <td>1200.0</td>\n",
       "    </tr>\n",
       "  </tbody>\n",
       "</table>\n",
       "</div>"
      ],
      "text/plain": [
       "          year  min_time   max_time\n",
       "77365   2017.0  157680.0  1576800.0\n",
       "63469   2010.0   60120.0    60120.0\n",
       "4165    1979.0   60000.0    60000.0\n",
       "37403   2013.0   17280.0    17280.0\n",
       "6061    1973.0   12000.0    12000.0\n",
       "58482      NaN   10000.0    10000.0\n",
       "46775   1978.0    9600.0     9600.0\n",
       "27820   1999.0    8400.0     8400.0\n",
       "42353      NaN    6000.0     6000.0\n",
       "23304      NaN    6000.0     6000.0\n",
       "79417   2018.0    6000.0    10000.0\n",
       "4909    1979.0    5400.0     5400.0\n",
       "11880   2001.0    4500.0     4500.0\n",
       "50905   2009.0    4500.0     4500.0\n",
       "29205      NaN    3600.0     3600.0\n",
       "29203      NaN    3600.0     3600.0\n",
       "29204      NaN    3600.0     3600.0\n",
       "3555    1993.0    3600.0     3600.0\n",
       "29202      NaN    3600.0     3600.0\n",
       "7842    1984.0    3000.0     3000.0\n",
       "48798   2012.0    3000.0     3000.0\n",
       "63117   2015.0    3000.0     3000.0\n",
       "89681   2021.0    3000.0    10000.0\n",
       "47021   2011.0    3000.0     3000.0\n",
       "19450   2010.0    3000.0     3000.0\n",
       "85715   1979.0    2880.0     6000.0\n",
       "41076   2012.0    2880.0     2880.0\n",
       "248     1992.0    2480.0     2480.0\n",
       "15869   2004.0    2400.0     2400.0\n",
       "112912  2022.0    2400.0     2400.0\n",
       "28975   2003.0    2005.0     2005.0\n",
       "22977   2004.0    2004.0     2004.0\n",
       "55807      NaN    2000.0     2000.0\n",
       "35447   1500.0    2000.0     2000.0\n",
       "45499   1600.0    1950.0     1950.0\n",
       "6233    1986.0    1800.0     1800.0\n",
       "12154   2005.0    1800.0     1800.0\n",
       "9583    1997.0    1500.0     1500.0\n",
       "35466   1500.0    1500.0     1500.0\n",
       "47102   2011.0    1500.0     1500.0\n",
       "78692   2019.0    1500.0     3000.0\n",
       "39395   2009.0    1500.0     1500.0\n",
       "6865    1978.0    1500.0     1500.0\n",
       "6667    2003.0    1440.0     2880.0\n",
       "25494   2007.0    1440.0    22500.0\n",
       "1332    1974.0    1440.0     1440.0\n",
       "104644  2021.0    1440.0    10080.0\n",
       "38465   2009.0    1440.0     1440.0\n",
       "60687   2012.0    1200.0     1200.0\n",
       "13201   1987.0    1200.0     1200.0"
      ]
     },
     "execution_count": 71,
     "metadata": {},
     "output_type": "execute_result"
    }
   ],
   "source": [
    "main_data_valid_time[[\"year\", \"min_time\", \"max_time\"]].sort_values(by=\"min_time\", ascending=False).head(50)"
   ]
  },
  {
   "cell_type": "markdown",
   "id": "848e2dee",
   "metadata": {},
   "source": [
    "**b) (0.2 pts)** Veremos ahora si ha cambiado la duración promedio de los juegos de mesa en nuestro rango de años seleccionado. Primero, cree una nueva columna `avg_time` en el dataset con la duración promedio supuesta para cada juego."
   ]
  },
  {
   "cell_type": "code",
   "execution_count": 37,
   "id": "204778d8",
   "metadata": {},
   "outputs": [],
   "source": [
    "main_data_valid_time[\"avg_time\"] = (main_data_valid_time[\"min_time\"] + main_data_valid_time[\"max_time\"]) / 2"
   ]
  },
  {
   "cell_type": "markdown",
   "id": "89df6ae6",
   "metadata": {},
   "source": [
    "**c) (0.5 pts)** Grafique la duración promedio de juegos al año entre 1980 y 2025. ¿Existe alguna tendencia? Asegúrese de colocar las unidades correspondientes en sus ejes si es necesario. Comente sus resultados."
   ]
  },
  {
   "cell_type": "code",
   "execution_count": 67,
   "id": "765da813",
   "metadata": {},
   "outputs": [],
   "source": [
    "main_data_valid_time_1980_1925 = main_data_valid_time[main_data_valid_time[\"year\"] <= 2025]\n",
    "main_data_valid_time_1980_1925 = main_data_valid_time_1980_1925[main_data_valid_time_1980_1925[\"year\"] >= 1980]\n",
    "\n",
    "avg_time_by_year = main_data_valid_time_1980_1925[[\"year\", \"avg_time\"]].groupby(by=[\"year\"]).mean()"
   ]
  },
  {
   "cell_type": "code",
   "execution_count": 68,
   "id": "6097799e-ce90-42b0-8e4a-a7a064156bf8",
   "metadata": {},
   "outputs": [
    {
     "data": {
      "image/png": "[encoded data removed]",
      "text/plain": [
       "<Figure size 640x480 with 1 Axes>"
      ]
     },
     "metadata": {},
     "output_type": "display_data"
    }
   ],
   "source": [
    "fig, ax = plt.subplots()\n",
    "\n",
    "ax.set_title(\"Duración promedio de juegos entre 1980 y 2025\")\n",
    "ax.set_xlabel(\"Año\")\n",
    "ax.set_ylabel(\"Duración promedio\")\n",
    "\n",
    "ax.grid(True, axis=\"y\", linestyle=\"--\", alpha=0.5)\n",
    "ax.grid(True, axis=\"x\", linestyle=\"--\", alpha=0.5)\n",
    "\n",
    "ax.set_facecolor(\"#dfdfdf\")\n",
    "\n",
    "ax.plot(avg_time_by_year.index, avg_time_by_year[\"avg_time\"], color=\"black\", alpha=1)\n",
    "plt.show()"
   ]
  },
  {
   "cell_type": "markdown",
   "id": "a5847905",
   "metadata": {},
   "source": [
    "**d) (0.5 pts)** Nos interesa saber si los juegos de mesa recientes son más complejos que aquellos publicados antes de los 2000. BoardGameGeek permite evaluar la complejidad (o \"weight\") de un juego en una escala de 1 a 5, siendo 1 un juego \"liviano\" o fácil de entender, y 5 un juego \"pesado\" o complejo. Primero, seleccione los juegos que han sido evaluados por al menos 100 usuarios. Luego grafique la complejidad promedio de los juegos según año. Responda: ¿ha cambiado la percepción de complejidad entre juegos entre 1980 y la actualidad?"
   ]
  },
  {
   "cell_type": "code",
   "execution_count": null,
   "id": "776553e6",
   "metadata": {},
   "outputs": [],
   "source": []
  },
  {
   "cell_type": "markdown",
   "id": "9a241f39",
   "metadata": {},
   "source": [
    "### 3.4 Análisis de categorías comunes (2 puntos)\n",
    "\n",
    "Existe una gran diversidad de categorías de juegos de mesa. Ahora nos concentraremos en un grupo específico de ellas, con el fin de analizar cómo a cambiado la cantidad de juegos de estas clases desde 1980 hasta hoy.\n",
    "\n",
    "**a) (0.7 pts)** ¿Cuáles son las 5 categorías más comunes en los juegos del dataset? Muestre la cantidad de juegos que hay de cada una. Puede graficar estos valores, o bien, entregar un DataFrame con sus valores."
   ]
  },
  {
   "cell_type": "code",
   "execution_count": null,
   "id": "13730de1",
   "metadata": {},
   "outputs": [],
   "source": []
  },
  {
   "cell_type": "markdown",
   "id": "d9aa153e",
   "metadata": {},
   "source": [
    "**b) (0.3 pts)** Para cada una de estas 5 categorías, cree un DataFrame que contenga la cantidad de juegos en el dataset según año. Luego junte estos DataFrames en uno solo con los atributos de \"Año\", \"Categoría\" y \"Cantidad\"."
   ]
  },
  {
   "cell_type": "code",
   "execution_count": null,
   "id": "325d450d",
   "metadata": {},
   "outputs": [],
   "source": []
  },
  {
   "cell_type": "markdown",
   "id": "d299aa4c",
   "metadata": {},
   "source": [
    "**c) (1 pto)** Grafique, en un solo gráfico y con distintos colores, la cantidad de juegos por año según categoría. Preocúpese de ponerle etiquetas al gráfico para identificar cada categoría y una leyenda donde se muestre cada una. Comente: ¿ha habido un cambio entre los juegos más comunes en los años 80 y hoy?\n"
   ]
  },
  {
   "cell_type": "code",
   "execution_count": null,
   "id": "7ad14cda",
   "metadata": {},
   "outputs": [],
   "source": []
  },
  {
   "cell_type": "markdown",
   "id": "9db1ea34-4030-4b3a-8853-4ef75f894298",
   "metadata": {},
   "source": [
    "### 3.5 Análisis Crítico (Bono +0.5 puntos)\n",
    "\n",
    "¿Qué limitaciones o problemas encontraste en los datos?"
   ]
  },
  {
   "cell_type": "code",
   "execution_count": null,
   "id": "cdbb98fe-7278-48ee-af95-05801244c50d",
   "metadata": {},
   "outputs": [],
   "source": []
  }
 ],
 "metadata": {
  "kernelspec": {
   "display_name": "Python 3 (ipykernel)",
   "language": "python",
   "name": "python3"
  },
  "language_info": {
   "codemirror_mode": {
    "name": "ipython",
    "version": 3
   },
   "file_extension": ".py",
   "mimetype": "text/x-python",
   "name": "python",
   "nbconvert_exporter": "python",
   "pygments_lexer": "ipython3",
   "version": "3.13.2"
  }
 },
 "nbformat": 4,
 "nbformat_minor": 5
}
